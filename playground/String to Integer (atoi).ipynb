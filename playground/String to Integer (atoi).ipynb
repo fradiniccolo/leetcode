{
 "cells": [
  {
   "cell_type": "code",
   "execution_count": 174,
   "metadata": {},
   "outputs": [
    {
     "name": "stdout",
     "output_type": "stream",
     "text": [
      "           input     solution         mine      outcome\n",
      "            '42'           42           42         True\n",
      "         ' -042'          -42          -42         True\n",
      "       '   -042'          -42          -42         True\n",
      "          '-+12'            0            0         True\n",
      "      '1337c0d3'         1337         1337         True\n",
      " 'words and 987'            0            0         True\n",
      "           '0-1'            0            0         True\n",
      "            '.1'            0            0         True\n",
      "              ''            0            0         True\n",
      "             '+'            0            0         True\n",
      "   '21474836460'   2147483647   2147483647         True\n",
      "    '2147483648'   2147483647   2147483647         True\n",
      "          '123-'          123          123         True\n",
      " ' b11228552307'            0            0         True\n"
     ]
    }
   ],
   "source": [
    "ss = [\n",
    "    (\"42\", 42),\n",
    "    (\" -042\", -42),\n",
    "    (\"   -042\", -42),\n",
    "    (\"-+12\", 0),\n",
    "    (\"1337c0d3\", 1337),\n",
    "    (\"words and 987\", 0),\n",
    "    (\"0-1\", 0),\n",
    "    (\".1\",0),\n",
    "    (\"\", 0),\n",
    "    (\"+\", 0),\n",
    "    (\"21474836460\", 2147483647),\n",
    "    (\"2147483648\", 2147483647),\n",
    "    (\"123-\", 123),\n",
    "    (\" b11228552307\", 0)\n",
    "    ]\n",
    "\n",
    "def myAtoi(s):\n",
    "\n",
    "    # clean left side\n",
    "    s = s.strip()\n",
    "    negative = False\n",
    "    for index, char in enumerate(s):\n",
    "        if char in '0123456789':\n",
    "            if index > 1 or s[0] not in '+-0123456789':\n",
    "                return 0\n",
    "            elif s[0] == '-':\n",
    "                negative = True\n",
    "            s = s[index:]\n",
    "            break    \n",
    "    \n",
    "    # get digits only\n",
    "    num = []\n",
    "    for char in s:\n",
    "        if char in '0123456789':\n",
    "            num.append(char)\n",
    "        else:\n",
    "            break\n",
    "    if not num:\n",
    "        return 0\n",
    "    \n",
    "    # to int\n",
    "    num = int(''.join(num))\n",
    "    if negative:\n",
    "        num = -num\n",
    "    \n",
    "    # limit to boundary\n",
    "    if num < -(2**31):\n",
    "        num = -(2**31)\n",
    "    elif num > (2**31)-1:\n",
    "        num = 2**31-1\n",
    "    \n",
    "    return num\n",
    "    \n",
    "col = 12\n",
    "\n",
    "print(f\"{'input':>16} {'solution':>12} {'mine':>12} {'outcome':>12}\")\n",
    "for s_in, s_sol in ss:\n",
    "    mine = myAtoi(s_in)\n",
    "    print(f\"{f\"'{s_in}'\":>16} {s_sol:>12} {mine:>12} {(s_sol == mine)!s:>12}\")"
   ]
  },
  {
   "cell_type": "code",
   "execution_count": 94,
   "metadata": {},
   "outputs": [
    {
     "data": {
      "text/plain": [
       "True"
      ]
     },
     "execution_count": 94,
     "metadata": {},
     "output_type": "execute_result"
    }
   ],
   "source": [
    "test = '   a-'\n",
    "any([char in 'abc' for char in test])"
   ]
  },
  {
   "cell_type": "code",
   "execution_count": 96,
   "metadata": {},
   "outputs": [
    {
     "data": {
      "text/plain": [
       "'abcdefghijklmnopqrstuvwxyzABCDEFGHIJKLMNOPQRSTUVWXYZ'"
      ]
     },
     "execution_count": 96,
     "metadata": {},
     "output_type": "execute_result"
    }
   ],
   "source": [
    "from string import a"
   ]
  },
  {
   "cell_type": "code",
   "execution_count": null,
   "metadata": {},
   "outputs": [],
   "source": []
  }
 ],
 "metadata": {
  "kernelspec": {
   "display_name": "sentiment_analysis",
   "language": "python",
   "name": "python3"
  },
  "language_info": {
   "codemirror_mode": {
    "name": "ipython",
    "version": 3
   },
   "file_extension": ".py",
   "mimetype": "text/x-python",
   "name": "python",
   "nbconvert_exporter": "python",
   "pygments_lexer": "ipython3",
   "version": "3.12.0"
  }
 },
 "nbformat": 4,
 "nbformat_minor": 2
}
