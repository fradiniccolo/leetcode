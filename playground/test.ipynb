{
 "cells": [
  {
   "cell_type": "code",
   "execution_count": 19,
   "metadata": {},
   "outputs": [
    {
     "name": "stdout",
     "output_type": "stream",
     "text": [
      "[[0, 1, 2], [3, 4, 5], [6, 7, 8]]\n",
      "\n",
      "strips:\n",
      "[(0, 0), (0, 2), (2, 2), (2, 0), (0, 0)]\n",
      "[(0, 1), (1, 2), (2, 1), (1, 0), (0, 1)]\n",
      "[(1, 1), (1, 1)]\n",
      "\n",
      "[[6, 3, 0], [7, 4, 1], [8, 5, 2]]\n"
     ]
    }
   ],
   "source": [
    "size = 3\n",
    "matrix = [[i+j*size for i in range(size)] for j in range(size)]\n",
    "print(matrix, end='\\n\\n')\n",
    "\n",
    "# coordinates before and after\n",
    "m = [(i, j) for i in range(size) for j in range(size)]\n",
    "r = [(j, (size - 1) - i) for i , j in m]\n",
    "m_to_r = dict(zip(m,r))\n",
    "\n",
    "#for coord0, coord1 in m_to_r.items():\n",
    "#    print(f\"{coord0} -> {coord1}\")\n",
    "#print()\n",
    "\n",
    "# build strips\n",
    "def new_strip():\n",
    "    return list(m_to_r.keys())[0]\n",
    "    \n",
    "strips = [[new_strip()]]\n",
    "\n",
    "# get rotations paths\n",
    "while m_to_r:\n",
    "    try:\n",
    "        latest_node = strips[-1][-1]\n",
    "        strips[-1].append(m_to_r[latest_node])\n",
    "        m_to_r.pop(latest_node)\n",
    "    except:\n",
    "        strips.append([new_strip()])\n",
    "\n",
    "    #print(f\"strips: {strips}\")\n",
    "    #print(f\"m_to_r: {m_to_r}\")\n",
    " \n",
    "print(\"strips:\")\n",
    "for strip in strips:\n",
    "     print(strip)\n",
    "print(\"\")\n",
    "\n",
    "# apply rotations\n",
    "for strip in strips:\n",
    "    jump = None\n",
    "    for couple in zip(strip[:-1], strip[1:]):\n",
    "        coord0, coord1 = couple\n",
    "        row0, col0 = coord0\n",
    "        row1, col1 = coord1\n",
    "        \n",
    "        hold = matrix[row1][col1]\n",
    "        if not jump:\n",
    "            jump = matrix[row0][col0]\n",
    "        matrix[row1][col1] = jump\n",
    "        jump = hold\n",
    "\n",
    "print(matrix)"
   ]
  },
  {
   "cell_type": "code",
   "execution_count": null,
   "metadata": {},
   "outputs": [],
   "source": []
  }
 ],
 "metadata": {
  "kernelspec": {
   "display_name": "timeleaves",
   "language": "python",
   "name": "python3"
  },
  "language_info": {
   "codemirror_mode": {
    "name": "ipython",
    "version": 3
   },
   "file_extension": ".py",
   "mimetype": "text/x-python",
   "name": "python",
   "nbconvert_exporter": "python",
   "pygments_lexer": "ipython3",
   "version": "3.12.0"
  }
 },
 "nbformat": 4,
 "nbformat_minor": 2
}
